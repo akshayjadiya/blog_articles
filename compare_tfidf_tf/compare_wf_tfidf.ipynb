{
 "metadata": {
  "language_info": {
   "codemirror_mode": {
    "name": "ipython",
    "version": 3
   },
   "file_extension": ".py",
   "mimetype": "text/x-python",
   "name": "python",
   "nbconvert_exporter": "python",
   "pygments_lexer": "ipython3",
   "version": "3.8.5"
  },
  "orig_nbformat": 4,
  "kernelspec": {
   "name": "python3",
   "display_name": "Python 3.8.5 64-bit ('base': conda)"
  },
  "interpreter": {
   "hash": "edab0e36dae2a32c8fa256d7a3ac98429927d2dbdac7db4b3a19339c6e3fba82"
  }
 },
 "nbformat": 4,
 "nbformat_minor": 2,
 "cells": [
  {
   "cell_type": "code",
   "execution_count": 1,
   "metadata": {},
   "outputs": [],
   "source": [
    "import pandas as pd \n",
    "import numpy as np \n",
    "from sklearn.feature_extraction.text import CountVectorizer"
   ]
  },
  {
   "cell_type": "code",
   "execution_count": 2,
   "metadata": {},
   "outputs": [
    {
     "output_type": "execute_result",
     "data": {
      "text/plain": [
       "                                                 URI                 name  \\\n",
       "0        <http://dbpedia.org/resource/Digby_Morrell>        Digby Morrell   \n",
       "1       <http://dbpedia.org/resource/Alfred_J._Lewy>       Alfred J. Lewy   \n",
       "2        <http://dbpedia.org/resource/Harpdog_Brown>        Harpdog Brown   \n",
       "3  <http://dbpedia.org/resource/Franz_Rottensteiner>  Franz Rottensteiner   \n",
       "4               <http://dbpedia.org/resource/G-Enka>               G-Enka   \n",
       "\n",
       "                                                text  \n",
       "0  digby morrell born 10 october 1979 is a former...  \n",
       "1  alfred j lewy aka sandy lewy graduated from un...  \n",
       "2  harpdog brown is a singer and harmonica player...  \n",
       "3  franz rottensteiner born in waidmannsfeld lowe...  \n",
       "4  henry krvits born 30 december 1974 in tallinn ...  "
      ],
      "text/html": "<div>\n<style scoped>\n    .dataframe tbody tr th:only-of-type {\n        vertical-align: middle;\n    }\n\n    .dataframe tbody tr th {\n        vertical-align: top;\n    }\n\n    .dataframe thead th {\n        text-align: right;\n    }\n</style>\n<table border=\"1\" class=\"dataframe\">\n  <thead>\n    <tr style=\"text-align: right;\">\n      <th></th>\n      <th>URI</th>\n      <th>name</th>\n      <th>text</th>\n    </tr>\n  </thead>\n  <tbody>\n    <tr>\n      <th>0</th>\n      <td>&lt;http://dbpedia.org/resource/Digby_Morrell&gt;</td>\n      <td>Digby Morrell</td>\n      <td>digby morrell born 10 october 1979 is a former...</td>\n    </tr>\n    <tr>\n      <th>1</th>\n      <td>&lt;http://dbpedia.org/resource/Alfred_J._Lewy&gt;</td>\n      <td>Alfred J. Lewy</td>\n      <td>alfred j lewy aka sandy lewy graduated from un...</td>\n    </tr>\n    <tr>\n      <th>2</th>\n      <td>&lt;http://dbpedia.org/resource/Harpdog_Brown&gt;</td>\n      <td>Harpdog Brown</td>\n      <td>harpdog brown is a singer and harmonica player...</td>\n    </tr>\n    <tr>\n      <th>3</th>\n      <td>&lt;http://dbpedia.org/resource/Franz_Rottensteiner&gt;</td>\n      <td>Franz Rottensteiner</td>\n      <td>franz rottensteiner born in waidmannsfeld lowe...</td>\n    </tr>\n    <tr>\n      <th>4</th>\n      <td>&lt;http://dbpedia.org/resource/G-Enka&gt;</td>\n      <td>G-Enka</td>\n      <td>henry krvits born 30 december 1974 in tallinn ...</td>\n    </tr>\n  </tbody>\n</table>\n</div>"
     },
     "metadata": {},
     "execution_count": 2
    }
   ],
   "source": [
    "wiki_data = pd.read_csv('../GitHub_data/people_wiki/people_wiki.csv')\n",
    "wiki_data.head()"
   ]
  },
  {
   "cell_type": "code",
   "execution_count": 3,
   "metadata": {},
   "outputs": [],
   "source": [
    "vectorizer = CountVectorizer()\n",
    "word_counts = vectorizer.fit_transform(wiki_data['text'])"
   ]
  },
  {
   "cell_type": "code",
   "execution_count": 5,
   "metadata": {},
   "outputs": [
    {
     "output_type": "execute_result",
     "data": {
      "text/plain": [
       "(59071, 3)"
      ]
     },
     "metadata": {},
     "execution_count": 5
    }
   ],
   "source": [
    "wiki_data.shape"
   ]
  },
  {
   "cell_type": "code",
   "execution_count": 9,
   "metadata": {},
   "outputs": [
    {
     "output_type": "execute_result",
     "data": {
      "text/plain": [
       "['zysman',\n",
       " 'zysmans',\n",
       " 'zyta',\n",
       " 'zytek',\n",
       " 'zytomierska',\n",
       " 'zyttrum',\n",
       " 'zyuganov',\n",
       " 'zyuganovs',\n",
       " 'zyurt',\n",
       " 'zywo',\n",
       " 'zyx',\n",
       " 'zyzzyva',\n",
       " 'zyzzyza',\n",
       " 'zz',\n",
       " 'zzap64',\n",
       " 'zzb',\n",
       " 'zzebra',\n",
       " 'zzran',\n",
       " 'zzt',\n",
       " 'zzts']"
      ]
     },
     "metadata": {},
     "execution_count": 9
    }
   ],
   "source": [
    "vectorizer.get_feature_names()[-20:]"
   ]
  },
  {
   "cell_type": "code",
   "execution_count": 11,
   "metadata": {},
   "outputs": [
    {
     "output_type": "execute_result",
     "data": {
      "text/plain": [
       "scipy.sparse.csr.csr_matrix"
      ]
     },
     "metadata": {},
     "execution_count": 11
    }
   ],
   "source": [
    "type(word_counts)"
   ]
  },
  {
   "cell_type": "code",
   "execution_count": 12,
   "metadata": {},
   "outputs": [],
   "source": [
    "from sklearn.neighbors import KNeighborsClassifier"
   ]
  },
  {
   "cell_type": "code",
   "execution_count": 13,
   "metadata": {},
   "outputs": [
    {
     "output_type": "execute_result",
     "data": {
      "text/plain": [
       "KNeighborsClassifier()"
      ]
     },
     "metadata": {},
     "execution_count": 13
    }
   ],
   "source": [
    "knn_model = KNeighborsClassifier()\n",
    "knn_model.fit(word_counts , wiki_data['name'])"
   ]
  },
  {
   "cell_type": "code",
   "execution_count": 14,
   "metadata": {},
   "outputs": [
    {
     "output_type": "execute_result",
     "data": {
      "text/plain": [
       "                                           URI       name  \\\n",
       "24478  <http://dbpedia.org/resource/Joe_Biden>  Joe Biden   \n",
       "\n",
       "                                                    text  \n",
       "24478  joseph robinette joe biden jr dosf rbnt badn b...  "
      ],
      "text/html": "<div>\n<style scoped>\n    .dataframe tbody tr th:only-of-type {\n        vertical-align: middle;\n    }\n\n    .dataframe tbody tr th {\n        vertical-align: top;\n    }\n\n    .dataframe thead th {\n        text-align: right;\n    }\n</style>\n<table border=\"1\" class=\"dataframe\">\n  <thead>\n    <tr style=\"text-align: right;\">\n      <th></th>\n      <th>URI</th>\n      <th>name</th>\n      <th>text</th>\n    </tr>\n  </thead>\n  <tbody>\n    <tr>\n      <th>24478</th>\n      <td>&lt;http://dbpedia.org/resource/Joe_Biden&gt;</td>\n      <td>Joe Biden</td>\n      <td>joseph robinette joe biden jr dosf rbnt badn b...</td>\n    </tr>\n  </tbody>\n</table>\n</div>"
     },
     "metadata": {},
     "execution_count": 14
    }
   ],
   "source": [
    "# Index of Joe Biden\n",
    "wiki_data[wiki_data['name'] == 'Joe Biden']"
   ]
  },
  {
   "cell_type": "code",
   "execution_count": 17,
   "metadata": {},
   "outputs": [],
   "source": [
    "jb_sparse = vectorizer.transform(wiki_data[wiki_data['name'] == 'Joe Biden']['text'])"
   ]
  },
  {
   "cell_type": "code",
   "execution_count": 23,
   "metadata": {},
   "outputs": [],
   "source": [
    "neighbor_dist = knn_model.kneighbors(jb_sparse,n_neighbors=10)[0][0]\n",
    "neighbor_index = knn_model.kneighbors(jb_sparse,n_neighbors=10)[1][0]"
   ]
  },
  {
   "cell_type": "code",
   "execution_count": 24,
   "metadata": {},
   "outputs": [],
   "source": [
    "jb_neighbors = pd.DataFrame({'distance' : neighbor_dist , 'index' : neighbor_index})"
   ]
  },
  {
   "cell_type": "code",
   "execution_count": 25,
   "metadata": {},
   "outputs": [
    {
     "output_type": "execute_result",
     "data": {
      "text/plain": [
       "    distance  index\n",
       "0   0.000000  24478\n",
       "1  28.740216   8031\n",
       "2  29.000000   5420\n",
       "3  29.086079  35721\n",
       "4  29.223278  46179\n",
       "5  29.308702  35541\n",
       "6  29.308702   8002\n",
       "7  29.410882  47303\n",
       "8  29.529646  39357\n",
       "9  29.916551  34214"
      ],
      "text/html": "<div>\n<style scoped>\n    .dataframe tbody tr th:only-of-type {\n        vertical-align: middle;\n    }\n\n    .dataframe tbody tr th {\n        vertical-align: top;\n    }\n\n    .dataframe thead th {\n        text-align: right;\n    }\n</style>\n<table border=\"1\" class=\"dataframe\">\n  <thead>\n    <tr style=\"text-align: right;\">\n      <th></th>\n      <th>distance</th>\n      <th>index</th>\n    </tr>\n  </thead>\n  <tbody>\n    <tr>\n      <th>0</th>\n      <td>0.000000</td>\n      <td>24478</td>\n    </tr>\n    <tr>\n      <th>1</th>\n      <td>28.740216</td>\n      <td>8031</td>\n    </tr>\n    <tr>\n      <th>2</th>\n      <td>29.000000</td>\n      <td>5420</td>\n    </tr>\n    <tr>\n      <th>3</th>\n      <td>29.086079</td>\n      <td>35721</td>\n    </tr>\n    <tr>\n      <th>4</th>\n      <td>29.223278</td>\n      <td>46179</td>\n    </tr>\n    <tr>\n      <th>5</th>\n      <td>29.308702</td>\n      <td>35541</td>\n    </tr>\n    <tr>\n      <th>6</th>\n      <td>29.308702</td>\n      <td>8002</td>\n    </tr>\n    <tr>\n      <th>7</th>\n      <td>29.410882</td>\n      <td>47303</td>\n    </tr>\n    <tr>\n      <th>8</th>\n      <td>29.529646</td>\n      <td>39357</td>\n    </tr>\n    <tr>\n      <th>9</th>\n      <td>29.916551</td>\n      <td>34214</td>\n    </tr>\n  </tbody>\n</table>\n</div>"
     },
     "metadata": {},
     "execution_count": 25
    }
   ],
   "source": [
    "jb_neighbors"
   ]
  },
  {
   "cell_type": "code",
   "execution_count": 26,
   "metadata": {},
   "outputs": [],
   "source": [
    "jb_neighbors = pd.merge(jb_neighbors , wiki_data['name'].reset_index() , on='index' , how='left')"
   ]
  },
  {
   "cell_type": "code",
   "execution_count": 27,
   "metadata": {},
   "outputs": [
    {
     "output_type": "execute_result",
     "data": {
      "text/plain": [
       "    distance  index                        name\n",
       "0   0.000000  24478                   Joe Biden\n",
       "1  28.740216   8031          William R. Hawkins\n",
       "2  29.000000   5420              David Whissell\n",
       "3  29.086079  35721  Michael Henderson (author)\n",
       "4  29.223278  46179                 Mike Gravel\n",
       "5  29.308702  35541                Jimmy Carter\n",
       "6  29.308702   8002        Giancarlo Pagliarini\n",
       "7  29.410882  47303                  John Kerry\n",
       "8  29.529646  39357                 John McCain\n",
       "9  29.916551  34214               Matthew Steen"
      ],
      "text/html": "<div>\n<style scoped>\n    .dataframe tbody tr th:only-of-type {\n        vertical-align: middle;\n    }\n\n    .dataframe tbody tr th {\n        vertical-align: top;\n    }\n\n    .dataframe thead th {\n        text-align: right;\n    }\n</style>\n<table border=\"1\" class=\"dataframe\">\n  <thead>\n    <tr style=\"text-align: right;\">\n      <th></th>\n      <th>distance</th>\n      <th>index</th>\n      <th>name</th>\n    </tr>\n  </thead>\n  <tbody>\n    <tr>\n      <th>0</th>\n      <td>0.000000</td>\n      <td>24478</td>\n      <td>Joe Biden</td>\n    </tr>\n    <tr>\n      <th>1</th>\n      <td>28.740216</td>\n      <td>8031</td>\n      <td>William R. Hawkins</td>\n    </tr>\n    <tr>\n      <th>2</th>\n      <td>29.000000</td>\n      <td>5420</td>\n      <td>David Whissell</td>\n    </tr>\n    <tr>\n      <th>3</th>\n      <td>29.086079</td>\n      <td>35721</td>\n      <td>Michael Henderson (author)</td>\n    </tr>\n    <tr>\n      <th>4</th>\n      <td>29.223278</td>\n      <td>46179</td>\n      <td>Mike Gravel</td>\n    </tr>\n    <tr>\n      <th>5</th>\n      <td>29.308702</td>\n      <td>35541</td>\n      <td>Jimmy Carter</td>\n    </tr>\n    <tr>\n      <th>6</th>\n      <td>29.308702</td>\n      <td>8002</td>\n      <td>Giancarlo Pagliarini</td>\n    </tr>\n    <tr>\n      <th>7</th>\n      <td>29.410882</td>\n      <td>47303</td>\n      <td>John Kerry</td>\n    </tr>\n    <tr>\n      <th>8</th>\n      <td>29.529646</td>\n      <td>39357</td>\n      <td>John McCain</td>\n    </tr>\n    <tr>\n      <th>9</th>\n      <td>29.916551</td>\n      <td>34214</td>\n      <td>Matthew Steen</td>\n    </tr>\n  </tbody>\n</table>\n</div>"
     },
     "metadata": {},
     "execution_count": 27
    }
   ],
   "source": [
    "jb_neighbors"
   ]
  },
  {
   "cell_type": "code",
   "execution_count": 28,
   "metadata": {},
   "outputs": [],
   "source": [
    "# Now let's compare top 10 neighbors of Joe Biden using TfIdf\n",
    "from sklearn.feature_extraction.text import TfidfVectorizer"
   ]
  },
  {
   "cell_type": "code",
   "execution_count": 30,
   "metadata": {},
   "outputs": [],
   "source": [
    "tfidf = TfidfVectorizer(stop_words='english')\n",
    "tfidf_count = tfidf.fit_transform(wiki_data['text'])"
   ]
  },
  {
   "cell_type": "code",
   "execution_count": 32,
   "metadata": {},
   "outputs": [
    {
     "output_type": "execute_result",
     "data": {
      "text/plain": [
       "KNeighborsClassifier()"
      ]
     },
     "metadata": {},
     "execution_count": 32
    }
   ],
   "source": [
    "knn_model_tfidf = KNeighborsClassifier()\n",
    "knn_model_tfidf.fit(tfidf_count , wiki_data['name'])"
   ]
  },
  {
   "cell_type": "code",
   "execution_count": 34,
   "metadata": {},
   "outputs": [],
   "source": [
    "jb_sparse_tfidf = tfidf.transform(wiki_data[wiki_data['name'] == 'Joe Biden']['text'])"
   ]
  },
  {
   "cell_type": "code",
   "execution_count": 35,
   "metadata": {},
   "outputs": [],
   "source": [
    "jb_neighbors_tfidf_distance = knn_model_tfidf.kneighbors(jb_sparse_tfidf,n_neighbors=10)[0][0]\n",
    "jb_neighbors_tfidf_index = knn_model_tfidf.kneighbors(jb_sparse_tfidf,n_neighbors=10)[1][0]"
   ]
  },
  {
   "cell_type": "code",
   "execution_count": 36,
   "metadata": {},
   "outputs": [
    {
     "output_type": "execute_result",
     "data": {
      "text/plain": [
       "       distance  index\n",
       "0  2.356080e-08  24478\n",
       "1  1.036251e+00  29596\n",
       "2  1.101389e+00  16880\n",
       "3  1.165145e+00  35817\n",
       "4  1.167491e+00  55880\n",
       "5  1.212316e+00  23309\n",
       "6  1.251899e+00   4032\n",
       "7  1.270501e+00  19152\n",
       "8  1.282683e+00  46811\n",
       "9  1.287690e+00  40353"
      ],
      "text/html": "<div>\n<style scoped>\n    .dataframe tbody tr th:only-of-type {\n        vertical-align: middle;\n    }\n\n    .dataframe tbody tr th {\n        vertical-align: top;\n    }\n\n    .dataframe thead th {\n        text-align: right;\n    }\n</style>\n<table border=\"1\" class=\"dataframe\">\n  <thead>\n    <tr style=\"text-align: right;\">\n      <th></th>\n      <th>distance</th>\n      <th>index</th>\n    </tr>\n  </thead>\n  <tbody>\n    <tr>\n      <th>0</th>\n      <td>2.356080e-08</td>\n      <td>24478</td>\n    </tr>\n    <tr>\n      <th>1</th>\n      <td>1.036251e+00</td>\n      <td>29596</td>\n    </tr>\n    <tr>\n      <th>2</th>\n      <td>1.101389e+00</td>\n      <td>16880</td>\n    </tr>\n    <tr>\n      <th>3</th>\n      <td>1.165145e+00</td>\n      <td>35817</td>\n    </tr>\n    <tr>\n      <th>4</th>\n      <td>1.167491e+00</td>\n      <td>55880</td>\n    </tr>\n    <tr>\n      <th>5</th>\n      <td>1.212316e+00</td>\n      <td>23309</td>\n    </tr>\n    <tr>\n      <th>6</th>\n      <td>1.251899e+00</td>\n      <td>4032</td>\n    </tr>\n    <tr>\n      <th>7</th>\n      <td>1.270501e+00</td>\n      <td>19152</td>\n    </tr>\n    <tr>\n      <th>8</th>\n      <td>1.282683e+00</td>\n      <td>46811</td>\n    </tr>\n    <tr>\n      <th>9</th>\n      <td>1.287690e+00</td>\n      <td>40353</td>\n    </tr>\n  </tbody>\n</table>\n</div>"
     },
     "metadata": {},
     "execution_count": 36
    }
   ],
   "source": [
    "jb_neighbors_tfidf = pd.DataFrame({'distance' : jb_neighbors_tfidf_distance , 'index' : jb_neighbors_tfidf_index})\n",
    "jb_neighbors_tfidf"
   ]
  },
  {
   "cell_type": "code",
   "execution_count": 37,
   "metadata": {},
   "outputs": [],
   "source": [
    "jb_neighbors_tfidf = pd.merge(jb_neighbors_tfidf , wiki_data['name'].reset_index() , on='index', how='left')"
   ]
  },
  {
   "cell_type": "code",
   "execution_count": 38,
   "metadata": {},
   "outputs": [
    {
     "output_type": "execute_result",
     "data": {
      "text/plain": [
       "       distance  index                 name\n",
       "0  2.356080e-08  24478            Joe Biden\n",
       "1  1.036251e+00  29596           Jill Biden\n",
       "2  1.101389e+00  16880        Cynthia Hogan\n",
       "3  1.165145e+00  35817         Barack Obama\n",
       "4  1.167491e+00  55880           Sheila Nix\n",
       "5  1.212316e+00  23309          Chris Coons\n",
       "6  1.251899e+00   4032  Kenneth D. Thompson\n",
       "7  1.270501e+00  19152       Michael Castle\n",
       "8  1.282683e+00  46811        Jeff Sessions\n",
       "9  1.287690e+00  40353        Neil MacBride"
      ],
      "text/html": "<div>\n<style scoped>\n    .dataframe tbody tr th:only-of-type {\n        vertical-align: middle;\n    }\n\n    .dataframe tbody tr th {\n        vertical-align: top;\n    }\n\n    .dataframe thead th {\n        text-align: right;\n    }\n</style>\n<table border=\"1\" class=\"dataframe\">\n  <thead>\n    <tr style=\"text-align: right;\">\n      <th></th>\n      <th>distance</th>\n      <th>index</th>\n      <th>name</th>\n    </tr>\n  </thead>\n  <tbody>\n    <tr>\n      <th>0</th>\n      <td>2.356080e-08</td>\n      <td>24478</td>\n      <td>Joe Biden</td>\n    </tr>\n    <tr>\n      <th>1</th>\n      <td>1.036251e+00</td>\n      <td>29596</td>\n      <td>Jill Biden</td>\n    </tr>\n    <tr>\n      <th>2</th>\n      <td>1.101389e+00</td>\n      <td>16880</td>\n      <td>Cynthia Hogan</td>\n    </tr>\n    <tr>\n      <th>3</th>\n      <td>1.165145e+00</td>\n      <td>35817</td>\n      <td>Barack Obama</td>\n    </tr>\n    <tr>\n      <th>4</th>\n      <td>1.167491e+00</td>\n      <td>55880</td>\n      <td>Sheila Nix</td>\n    </tr>\n    <tr>\n      <th>5</th>\n      <td>1.212316e+00</td>\n      <td>23309</td>\n      <td>Chris Coons</td>\n    </tr>\n    <tr>\n      <th>6</th>\n      <td>1.251899e+00</td>\n      <td>4032</td>\n      <td>Kenneth D. Thompson</td>\n    </tr>\n    <tr>\n      <th>7</th>\n      <td>1.270501e+00</td>\n      <td>19152</td>\n      <td>Michael Castle</td>\n    </tr>\n    <tr>\n      <th>8</th>\n      <td>1.282683e+00</td>\n      <td>46811</td>\n      <td>Jeff Sessions</td>\n    </tr>\n    <tr>\n      <th>9</th>\n      <td>1.287690e+00</td>\n      <td>40353</td>\n      <td>Neil MacBride</td>\n    </tr>\n  </tbody>\n</table>\n</div>"
     },
     "metadata": {},
     "execution_count": 38
    }
   ],
   "source": [
    "jb_neighbors_tfidf"
   ]
  },
  {
   "cell_type": "code",
   "execution_count": 49,
   "metadata": {},
   "outputs": [
    {
     "output_type": "execute_result",
     "data": {
      "text/plain": [
       "(1, 548429)"
      ]
     },
     "metadata": {},
     "execution_count": 49
    }
   ],
   "source": [
    "jb_mat = jb_sparse.toarray()\n",
    "jb_mat.shape"
   ]
  },
  {
   "cell_type": "code",
   "execution_count": 50,
   "metadata": {},
   "outputs": [
    {
     "output_type": "execute_result",
     "data": {
      "text/plain": [
       "array([[ 45073, 487995, 233774,  89034, 525845, 494541, 360068, 251905,\n",
       "         58906, 488148]], dtype=int64)"
      ]
     },
     "metadata": {},
     "execution_count": 50
    }
   ],
   "source": [
    "jb_mat.argsort(axis = 1)[:,-10:]"
   ]
  },
  {
   "cell_type": "code",
   "execution_count": 59,
   "metadata": {},
   "outputs": [
    {
     "output_type": "execute_result",
     "data": {
      "text/plain": [
       "array([['act', 'that', 'he', 'biden', 'was', 'to', 'of', 'in', 'and',\n",
       "        'the']], dtype='<U2140')"
      ]
     },
     "metadata": {},
     "execution_count": 59
    }
   ],
   "source": [
    "np.array(vectorizer.get_feature_names())[jb_mat.argsort(axis = 1)[:,-10:]]"
   ]
  },
  {
   "cell_type": "code",
   "execution_count": 63,
   "metadata": {},
   "outputs": [
    {
     "output_type": "execute_result",
     "data": {
      "text/plain": [
       "  top_10_words\n",
       "0          the\n",
       "1          and\n",
       "2           in\n",
       "3           of\n",
       "4           to\n",
       "5          was\n",
       "6        biden\n",
       "7           he\n",
       "8         that\n",
       "9          act"
      ],
      "text/html": "<div>\n<style scoped>\n    .dataframe tbody tr th:only-of-type {\n        vertical-align: middle;\n    }\n\n    .dataframe tbody tr th {\n        vertical-align: top;\n    }\n\n    .dataframe thead th {\n        text-align: right;\n    }\n</style>\n<table border=\"1\" class=\"dataframe\">\n  <thead>\n    <tr style=\"text-align: right;\">\n      <th></th>\n      <th>top_10_words</th>\n    </tr>\n  </thead>\n  <tbody>\n    <tr>\n      <th>0</th>\n      <td>the</td>\n    </tr>\n    <tr>\n      <th>1</th>\n      <td>and</td>\n    </tr>\n    <tr>\n      <th>2</th>\n      <td>in</td>\n    </tr>\n    <tr>\n      <th>3</th>\n      <td>of</td>\n    </tr>\n    <tr>\n      <th>4</th>\n      <td>to</td>\n    </tr>\n    <tr>\n      <th>5</th>\n      <td>was</td>\n    </tr>\n    <tr>\n      <th>6</th>\n      <td>biden</td>\n    </tr>\n    <tr>\n      <th>7</th>\n      <td>he</td>\n    </tr>\n    <tr>\n      <th>8</th>\n      <td>that</td>\n    </tr>\n    <tr>\n      <th>9</th>\n      <td>act</td>\n    </tr>\n  </tbody>\n</table>\n</div>"
     },
     "metadata": {},
     "execution_count": 63
    }
   ],
   "source": [
    "pd.DataFrame(np.array(vectorizer.get_feature_names())[jb_mat.argsort(axis = 1)[:,-10:]][0][::-1] , columns=['top_10_words'])"
   ]
  },
  {
   "cell_type": "code",
   "execution_count": 60,
   "metadata": {},
   "outputs": [
    {
     "output_type": "execute_result",
     "data": {
      "text/plain": [
       "(1, 548115)"
      ]
     },
     "metadata": {},
     "execution_count": 60
    }
   ],
   "source": [
    "jb_mat_tfidf = jb_sparse_tfidf.toarray()\n",
    "jb_mat_tfidf.shape"
   ]
  },
  {
   "cell_type": "code",
   "execution_count": 61,
   "metadata": {},
   "outputs": [
    {
     "output_type": "execute_result",
     "data": {
      "text/plain": [
       "array([[269252, 442385, 155024, 395397, 442467, 417356, 518147,  45070,\n",
       "        358378,  88985]], dtype=int64)"
      ]
     },
     "metadata": {},
     "execution_count": 61
    }
   ],
   "source": [
    "jb_mat_tfidf.argsort(axis = 1)[:,-10:]"
   ]
  },
  {
   "cell_type": "code",
   "execution_count": 62,
   "metadata": {},
   "outputs": [
    {
     "output_type": "execute_result",
     "data": {
      "text/plain": [
       "array([['judiciary', 'senate', 'delaware', 'president', 'senator',\n",
       "        'resolved', 'vice', 'act', 'obama', 'biden']], dtype='<U2140')"
      ]
     },
     "metadata": {},
     "execution_count": 62
    }
   ],
   "source": [
    "np.array(tfidf.get_feature_names())[jb_mat_tfidf.argsort(axis = 1)[:,-10:]]"
   ]
  },
  {
   "cell_type": "code",
   "execution_count": 64,
   "metadata": {},
   "outputs": [
    {
     "output_type": "execute_result",
     "data": {
      "text/plain": [
       "  top_10_words\n",
       "0        biden\n",
       "1        obama\n",
       "2          act\n",
       "3         vice\n",
       "4     resolved\n",
       "5      senator\n",
       "6    president\n",
       "7     delaware\n",
       "8       senate\n",
       "9    judiciary"
      ],
      "text/html": "<div>\n<style scoped>\n    .dataframe tbody tr th:only-of-type {\n        vertical-align: middle;\n    }\n\n    .dataframe tbody tr th {\n        vertical-align: top;\n    }\n\n    .dataframe thead th {\n        text-align: right;\n    }\n</style>\n<table border=\"1\" class=\"dataframe\">\n  <thead>\n    <tr style=\"text-align: right;\">\n      <th></th>\n      <th>top_10_words</th>\n    </tr>\n  </thead>\n  <tbody>\n    <tr>\n      <th>0</th>\n      <td>biden</td>\n    </tr>\n    <tr>\n      <th>1</th>\n      <td>obama</td>\n    </tr>\n    <tr>\n      <th>2</th>\n      <td>act</td>\n    </tr>\n    <tr>\n      <th>3</th>\n      <td>vice</td>\n    </tr>\n    <tr>\n      <th>4</th>\n      <td>resolved</td>\n    </tr>\n    <tr>\n      <th>5</th>\n      <td>senator</td>\n    </tr>\n    <tr>\n      <th>6</th>\n      <td>president</td>\n    </tr>\n    <tr>\n      <th>7</th>\n      <td>delaware</td>\n    </tr>\n    <tr>\n      <th>8</th>\n      <td>senate</td>\n    </tr>\n    <tr>\n      <th>9</th>\n      <td>judiciary</td>\n    </tr>\n  </tbody>\n</table>\n</div>"
     },
     "metadata": {},
     "execution_count": 64
    }
   ],
   "source": [
    "pd.DataFrame(np.array(tfidf.get_feature_names())[jb_mat_tfidf.argsort(axis = 1)[:,-10:]][0][::-1] , columns=['top_10_words'])"
   ]
  },
  {
   "cell_type": "code",
   "execution_count": null,
   "metadata": {},
   "outputs": [],
   "source": []
  }
 ]
}
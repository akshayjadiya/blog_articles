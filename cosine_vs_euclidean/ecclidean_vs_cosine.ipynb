{
 "metadata": {
  "language_info": {
   "codemirror_mode": {
    "name": "ipython",
    "version": 3
   },
   "file_extension": ".py",
   "mimetype": "text/x-python",
   "name": "python",
   "nbconvert_exporter": "python",
   "pygments_lexer": "ipython3",
   "version": "3.8.5"
  },
  "orig_nbformat": 4,
  "kernelspec": {
   "name": "python3",
   "display_name": "Python 3.8.5 64-bit ('base': conda)"
  },
  "interpreter": {
   "hash": "edab0e36dae2a32c8fa256d7a3ac98429927d2dbdac7db4b3a19339c6e3fba82"
  }
 },
 "nbformat": 4,
 "nbformat_minor": 2,
 "cells": [
  {
   "cell_type": "code",
   "execution_count": 1,
   "metadata": {},
   "outputs": [],
   "source": [
    "import pandas as pd \n",
    "import numpy as np "
   ]
  },
  {
   "cell_type": "code",
   "execution_count": 2,
   "metadata": {},
   "outputs": [
    {
     "output_type": "execute_result",
     "data": {
      "text/plain": [
       "                                                 URI                 name  \\\n",
       "0        <http://dbpedia.org/resource/Digby_Morrell>        Digby Morrell   \n",
       "1       <http://dbpedia.org/resource/Alfred_J._Lewy>       Alfred J. Lewy   \n",
       "2        <http://dbpedia.org/resource/Harpdog_Brown>        Harpdog Brown   \n",
       "3  <http://dbpedia.org/resource/Franz_Rottensteiner>  Franz Rottensteiner   \n",
       "4               <http://dbpedia.org/resource/G-Enka>               G-Enka   \n",
       "\n",
       "                                                text  \n",
       "0  digby morrell born 10 october 1979 is a former...  \n",
       "1  alfred j lewy aka sandy lewy graduated from un...  \n",
       "2  harpdog brown is a singer and harmonica player...  \n",
       "3  franz rottensteiner born in waidmannsfeld lowe...  \n",
       "4  henry krvits born 30 december 1974 in tallinn ...  "
      ],
      "text/html": "<div>\n<style scoped>\n    .dataframe tbody tr th:only-of-type {\n        vertical-align: middle;\n    }\n\n    .dataframe tbody tr th {\n        vertical-align: top;\n    }\n\n    .dataframe thead th {\n        text-align: right;\n    }\n</style>\n<table border=\"1\" class=\"dataframe\">\n  <thead>\n    <tr style=\"text-align: right;\">\n      <th></th>\n      <th>URI</th>\n      <th>name</th>\n      <th>text</th>\n    </tr>\n  </thead>\n  <tbody>\n    <tr>\n      <th>0</th>\n      <td>&lt;http://dbpedia.org/resource/Digby_Morrell&gt;</td>\n      <td>Digby Morrell</td>\n      <td>digby morrell born 10 october 1979 is a former...</td>\n    </tr>\n    <tr>\n      <th>1</th>\n      <td>&lt;http://dbpedia.org/resource/Alfred_J._Lewy&gt;</td>\n      <td>Alfred J. Lewy</td>\n      <td>alfred j lewy aka sandy lewy graduated from un...</td>\n    </tr>\n    <tr>\n      <th>2</th>\n      <td>&lt;http://dbpedia.org/resource/Harpdog_Brown&gt;</td>\n      <td>Harpdog Brown</td>\n      <td>harpdog brown is a singer and harmonica player...</td>\n    </tr>\n    <tr>\n      <th>3</th>\n      <td>&lt;http://dbpedia.org/resource/Franz_Rottensteiner&gt;</td>\n      <td>Franz Rottensteiner</td>\n      <td>franz rottensteiner born in waidmannsfeld lowe...</td>\n    </tr>\n    <tr>\n      <th>4</th>\n      <td>&lt;http://dbpedia.org/resource/G-Enka&gt;</td>\n      <td>G-Enka</td>\n      <td>henry krvits born 30 december 1974 in tallinn ...</td>\n    </tr>\n  </tbody>\n</table>\n</div>"
     },
     "metadata": {},
     "execution_count": 2
    }
   ],
   "source": [
    "people_df = pd.read_csv('../GitHub_data/people_wiki/people_wiki.csv')\n",
    "people_df.head()"
   ]
  },
  {
   "cell_type": "code",
   "execution_count": 3,
   "metadata": {},
   "outputs": [],
   "source": [
    "from sklearn.feature_extraction.text import TfidfVectorizer"
   ]
  },
  {
   "cell_type": "code",
   "execution_count": 4,
   "metadata": {},
   "outputs": [],
   "source": [
    "tfidf_vectorizer = TfidfVectorizer(stop_words='english')\n",
    "text_tfidf = tfidf_vectorizer.fit_transform(people_df['text'])"
   ]
  },
  {
   "cell_type": "code",
   "execution_count": 5,
   "metadata": {},
   "outputs": [],
   "source": [
    "import scipy"
   ]
  },
  {
   "cell_type": "code",
   "execution_count": 6,
   "metadata": {},
   "outputs": [
    {
     "output_type": "execute_result",
     "data": {
      "text/plain": [
       "array([1., 1., 1., ..., 1., 1., 1.])"
      ]
     },
     "metadata": {},
     "execution_count": 6
    }
   ],
   "source": [
    "scipy.sparse.linalg.norm(text_tfidf , axis=1)"
   ]
  },
  {
   "cell_type": "code",
   "execution_count": 7,
   "metadata": {},
   "outputs": [],
   "source": [
    "from sklearn.feature_extraction.text import CountVectorizer"
   ]
  },
  {
   "cell_type": "code",
   "execution_count": 8,
   "metadata": {},
   "outputs": [],
   "source": [
    "cv = CountVectorizer(stop_words='english')\n",
    "text_cv = cv.fit_transform(people_df['text'])"
   ]
  },
  {
   "cell_type": "code",
   "execution_count": 9,
   "metadata": {},
   "outputs": [],
   "source": [
    "non_zero_text_cv = 1*(text_cv > 0)"
   ]
  },
  {
   "cell_type": "code",
   "execution_count": 10,
   "metadata": {},
   "outputs": [],
   "source": [
    "idf = np.log((non_zero_text_cv.shape[0]) / np.sum(non_zero_text_cv , axis=0))"
   ]
  },
  {
   "cell_type": "code",
   "execution_count": 11,
   "metadata": {},
   "outputs": [],
   "source": [
    "text_tfidf_nn = text_cv.multiply(idf)"
   ]
  },
  {
   "cell_type": "code",
   "execution_count": 12,
   "metadata": {},
   "outputs": [
    {
     "output_type": "execute_result",
     "data": {
      "text/plain": [
       "(59071, 548115)"
      ]
     },
     "metadata": {},
     "execution_count": 12
    }
   ],
   "source": [
    "text_tfidf_nn.shape"
   ]
  },
  {
   "cell_type": "code",
   "execution_count": 13,
   "metadata": {},
   "outputs": [
    {
     "output_type": "execute_result",
     "data": {
      "text/plain": [
       "array([77.38465859, 96.90653   , 68.5970974 , ..., 77.2497272 ,\n",
       "       70.39147365, 75.75702447])"
      ]
     },
     "metadata": {},
     "execution_count": 13
    }
   ],
   "source": [
    "scipy.sparse.linalg.norm(text_tfidf_nn , axis=1)"
   ]
  },
  {
   "cell_type": "code",
   "execution_count": 14,
   "metadata": {},
   "outputs": [
    {
     "output_type": "execute_result",
     "data": {
      "text/plain": [
       "scipy.sparse.coo.coo_matrix"
      ]
     },
     "metadata": {},
     "execution_count": 14
    }
   ],
   "source": [
    "type(text_tfidf_nn)"
   ]
  },
  {
   "cell_type": "code",
   "execution_count": 15,
   "metadata": {},
   "outputs": [],
   "source": [
    "# Create a KNN model\n",
    "from sklearn.neighbors import KNeighborsClassifier"
   ]
  },
  {
   "cell_type": "code",
   "execution_count": 16,
   "metadata": {},
   "outputs": [
    {
     "output_type": "execute_result",
     "data": {
      "text/plain": [
       "KNeighborsClassifier(metric='euclidean')"
      ]
     },
     "metadata": {},
     "execution_count": 16
    }
   ],
   "source": [
    "model_euclidean = KNeighborsClassifier(metric='euclidean')\n",
    "model_euclidean.fit(text_tfidf_nn,people_df['name'])"
   ]
  },
  {
   "cell_type": "code",
   "execution_count": 17,
   "metadata": {},
   "outputs": [
    {
     "output_type": "execute_result",
     "data": {
      "text/plain": [
       "                                              URI          name  \\\n",
       "35817  <http://dbpedia.org/resource/Barack_Obama>  Barack Obama   \n",
       "\n",
       "                                                    text  \n",
       "35817  barack hussein obama ii brk husen bm born augu...  "
      ],
      "text/html": "<div>\n<style scoped>\n    .dataframe tbody tr th:only-of-type {\n        vertical-align: middle;\n    }\n\n    .dataframe tbody tr th {\n        vertical-align: top;\n    }\n\n    .dataframe thead th {\n        text-align: right;\n    }\n</style>\n<table border=\"1\" class=\"dataframe\">\n  <thead>\n    <tr style=\"text-align: right;\">\n      <th></th>\n      <th>URI</th>\n      <th>name</th>\n      <th>text</th>\n    </tr>\n  </thead>\n  <tbody>\n    <tr>\n      <th>35817</th>\n      <td>&lt;http://dbpedia.org/resource/Barack_Obama&gt;</td>\n      <td>Barack Obama</td>\n      <td>barack hussein obama ii brk husen bm born augu...</td>\n    </tr>\n  </tbody>\n</table>\n</div>"
     },
     "metadata": {},
     "execution_count": 17
    }
   ],
   "source": [
    "# Find top 10 neighbors of Barack Obama\n",
    "\n",
    "# Find Barack Obama index\n",
    "people_df[people_df['name'] == 'Barack Obama']"
   ]
  },
  {
   "cell_type": "code",
   "execution_count": 18,
   "metadata": {},
   "outputs": [],
   "source": [
    "# Find Barack Obama sparse matrix form\n",
    "obama_tfidf_nn = text_tfidf_nn.tocsr()[35817,:]"
   ]
  },
  {
   "cell_type": "code",
   "execution_count": 19,
   "metadata": {},
   "outputs": [
    {
     "output_type": "execute_result",
     "data": {
      "text/plain": [
       "     distance  index                     name\n",
       "0    0.000000  35817             Barack Obama\n",
       "1  105.491028   7914            Phil Schiliro\n",
       "2  107.400537  38376           Samantha Power\n",
       "3  107.424469  44681   Jesse Lee (politician)\n",
       "4  107.865568  46811            Jeff Sessions\n",
       "5  108.383341   6507             Bob Menendez\n",
       "6  108.407927  33417            Tulsi Gabbard\n",
       "7  108.760330  44368     Roland Grossenbacher\n",
       "8  108.910817  38714  Eric Stern (politician)\n",
       "9  108.969970  49944            Howard Dawson"
      ],
      "text/html": "<div>\n<style scoped>\n    .dataframe tbody tr th:only-of-type {\n        vertical-align: middle;\n    }\n\n    .dataframe tbody tr th {\n        vertical-align: top;\n    }\n\n    .dataframe thead th {\n        text-align: right;\n    }\n</style>\n<table border=\"1\" class=\"dataframe\">\n  <thead>\n    <tr style=\"text-align: right;\">\n      <th></th>\n      <th>distance</th>\n      <th>index</th>\n      <th>name</th>\n    </tr>\n  </thead>\n  <tbody>\n    <tr>\n      <th>0</th>\n      <td>0.000000</td>\n      <td>35817</td>\n      <td>Barack Obama</td>\n    </tr>\n    <tr>\n      <th>1</th>\n      <td>105.491028</td>\n      <td>7914</td>\n      <td>Phil Schiliro</td>\n    </tr>\n    <tr>\n      <th>2</th>\n      <td>107.400537</td>\n      <td>38376</td>\n      <td>Samantha Power</td>\n    </tr>\n    <tr>\n      <th>3</th>\n      <td>107.424469</td>\n      <td>44681</td>\n      <td>Jesse Lee (politician)</td>\n    </tr>\n    <tr>\n      <th>4</th>\n      <td>107.865568</td>\n      <td>46811</td>\n      <td>Jeff Sessions</td>\n    </tr>\n    <tr>\n      <th>5</th>\n      <td>108.383341</td>\n      <td>6507</td>\n      <td>Bob Menendez</td>\n    </tr>\n    <tr>\n      <th>6</th>\n      <td>108.407927</td>\n      <td>33417</td>\n      <td>Tulsi Gabbard</td>\n    </tr>\n    <tr>\n      <th>7</th>\n      <td>108.760330</td>\n      <td>44368</td>\n      <td>Roland Grossenbacher</td>\n    </tr>\n    <tr>\n      <th>8</th>\n      <td>108.910817</td>\n      <td>38714</td>\n      <td>Eric Stern (politician)</td>\n    </tr>\n    <tr>\n      <th>9</th>\n      <td>108.969970</td>\n      <td>49944</td>\n      <td>Howard Dawson</td>\n    </tr>\n  </tbody>\n</table>\n</div>"
     },
     "metadata": {},
     "execution_count": 19
    }
   ],
   "source": [
    "euc_neighbor_dist = model_euclidean.kneighbors(obama_tfidf_nn,n_neighbors=10)[0][0]\n",
    "euc_neighbor_index = model_euclidean.kneighbors(obama_tfidf_nn,n_neighbors=10)[1][0]\n",
    "\n",
    "euc_neighbors = pd.DataFrame({'distance' : euc_neighbor_dist , 'index' : euc_neighbor_index})\n",
    "\n",
    "euc_neighbors = pd.merge(euc_neighbors , people_df['name'].reset_index() , on='index' , how='left')\n",
    "euc_neighbors\n"
   ]
  },
  {
   "cell_type": "code",
   "execution_count": 20,
   "metadata": {},
   "outputs": [],
   "source": [
    "euc_obama_neighbors = people_df[people_df['name'].isin(euc_neighbors['name'])].copy()"
   ]
  },
  {
   "cell_type": "code",
   "execution_count": 21,
   "metadata": {},
   "outputs": [
    {
     "output_type": "execute_result",
     "data": {
      "text/plain": [
       "                                                     URI  \\\n",
       "6507          <http://dbpedia.org/resource/Bob_Menendez>   \n",
       "7914         <http://dbpedia.org/resource/Phil_Schiliro>   \n",
       "33417        <http://dbpedia.org/resource/Tulsi_Gabbard>   \n",
       "35817         <http://dbpedia.org/resource/Barack_Obama>   \n",
       "38376       <http://dbpedia.org/resource/Samantha_Power>   \n",
       "38714  <http://dbpedia.org/resource/Eric_Stern_(polit...   \n",
       "44368  <http://dbpedia.org/resource/Roland_Grossenbac...   \n",
       "44681  <http://dbpedia.org/resource/Jesse_Lee_(politi...   \n",
       "46811        <http://dbpedia.org/resource/Jeff_Sessions>   \n",
       "49944        <http://dbpedia.org/resource/Howard_Dawson>   \n",
       "\n",
       "                          name  \\\n",
       "6507              Bob Menendez   \n",
       "7914             Phil Schiliro   \n",
       "33417            Tulsi Gabbard   \n",
       "35817             Barack Obama   \n",
       "38376           Samantha Power   \n",
       "38714  Eric Stern (politician)   \n",
       "44368     Roland Grossenbacher   \n",
       "44681   Jesse Lee (politician)   \n",
       "46811            Jeff Sessions   \n",
       "49944            Howard Dawson   \n",
       "\n",
       "                                                    text  text_len  \n",
       "6507   robert bob menendez born january 1 1954 is the...       220  \n",
       "7914   phil schiliro is an american political consult...       208  \n",
       "33417  tulsi gabbard born april 12 1981 is an america...       228  \n",
       "35817  barack hussein obama ii brk husen bm born augu...       540  \n",
       "38376  samantha power born september 21 1970 is an ir...       310  \n",
       "38714  eric stern is the director of operations for t...       255  \n",
       "44368  dr roland edouard grossenbacher is a swiss att...       201  \n",
       "44681  jesse lee born 1979 was named the white house ...       216  \n",
       "46811  jefferson beauregard jeff sessions iii born de...       230  \n",
       "49944  howard a dawson jr born october 23 1922 in oko...       203  "
      ],
      "text/html": "<div>\n<style scoped>\n    .dataframe tbody tr th:only-of-type {\n        vertical-align: middle;\n    }\n\n    .dataframe tbody tr th {\n        vertical-align: top;\n    }\n\n    .dataframe thead th {\n        text-align: right;\n    }\n</style>\n<table border=\"1\" class=\"dataframe\">\n  <thead>\n    <tr style=\"text-align: right;\">\n      <th></th>\n      <th>URI</th>\n      <th>name</th>\n      <th>text</th>\n      <th>text_len</th>\n    </tr>\n  </thead>\n  <tbody>\n    <tr>\n      <th>6507</th>\n      <td>&lt;http://dbpedia.org/resource/Bob_Menendez&gt;</td>\n      <td>Bob Menendez</td>\n      <td>robert bob menendez born january 1 1954 is the...</td>\n      <td>220</td>\n    </tr>\n    <tr>\n      <th>7914</th>\n      <td>&lt;http://dbpedia.org/resource/Phil_Schiliro&gt;</td>\n      <td>Phil Schiliro</td>\n      <td>phil schiliro is an american political consult...</td>\n      <td>208</td>\n    </tr>\n    <tr>\n      <th>33417</th>\n      <td>&lt;http://dbpedia.org/resource/Tulsi_Gabbard&gt;</td>\n      <td>Tulsi Gabbard</td>\n      <td>tulsi gabbard born april 12 1981 is an america...</td>\n      <td>228</td>\n    </tr>\n    <tr>\n      <th>35817</th>\n      <td>&lt;http://dbpedia.org/resource/Barack_Obama&gt;</td>\n      <td>Barack Obama</td>\n      <td>barack hussein obama ii brk husen bm born augu...</td>\n      <td>540</td>\n    </tr>\n    <tr>\n      <th>38376</th>\n      <td>&lt;http://dbpedia.org/resource/Samantha_Power&gt;</td>\n      <td>Samantha Power</td>\n      <td>samantha power born september 21 1970 is an ir...</td>\n      <td>310</td>\n    </tr>\n    <tr>\n      <th>38714</th>\n      <td>&lt;http://dbpedia.org/resource/Eric_Stern_(polit...</td>\n      <td>Eric Stern (politician)</td>\n      <td>eric stern is the director of operations for t...</td>\n      <td>255</td>\n    </tr>\n    <tr>\n      <th>44368</th>\n      <td>&lt;http://dbpedia.org/resource/Roland_Grossenbac...</td>\n      <td>Roland Grossenbacher</td>\n      <td>dr roland edouard grossenbacher is a swiss att...</td>\n      <td>201</td>\n    </tr>\n    <tr>\n      <th>44681</th>\n      <td>&lt;http://dbpedia.org/resource/Jesse_Lee_(politi...</td>\n      <td>Jesse Lee (politician)</td>\n      <td>jesse lee born 1979 was named the white house ...</td>\n      <td>216</td>\n    </tr>\n    <tr>\n      <th>46811</th>\n      <td>&lt;http://dbpedia.org/resource/Jeff_Sessions&gt;</td>\n      <td>Jeff Sessions</td>\n      <td>jefferson beauregard jeff sessions iii born de...</td>\n      <td>230</td>\n    </tr>\n    <tr>\n      <th>49944</th>\n      <td>&lt;http://dbpedia.org/resource/Howard_Dawson&gt;</td>\n      <td>Howard Dawson</td>\n      <td>howard a dawson jr born october 23 1922 in oko...</td>\n      <td>203</td>\n    </tr>\n  </tbody>\n</table>\n</div>"
     },
     "metadata": {},
     "execution_count": 21
    }
   ],
   "source": [
    "def find_length(row):\n",
    "    return len(row.split(' '))\n",
    "euc_obama_neighbors['text_len'] = euc_obama_neighbors['text'].apply(find_length)\n",
    "euc_obama_neighbors"
   ]
  },
  {
   "cell_type": "code",
   "execution_count": 22,
   "metadata": {},
   "outputs": [
    {
     "output_type": "execute_result",
     "data": {
      "text/plain": [
       "261.1"
      ]
     },
     "metadata": {},
     "execution_count": 22
    }
   ],
   "source": [
    "euc_obama_neighbors['text_len'].mean()"
   ]
  },
  {
   "cell_type": "code",
   "execution_count": 31,
   "metadata": {},
   "outputs": [
    {
     "output_type": "execute_result",
     "data": {
      "text/plain": [
       "230.11111111111111"
      ]
     },
     "metadata": {},
     "execution_count": 31
    }
   ],
   "source": [
    "euc_obama_neighbors[euc_obama_neighbors['name']!='Barack Obama']['text_len'].mean()"
   ]
  },
  {
   "cell_type": "code",
   "execution_count": 23,
   "metadata": {},
   "outputs": [
    {
     "output_type": "execute_result",
     "data": {
      "text/plain": [
       "KNeighborsClassifier(metric='euclidean')"
      ]
     },
     "metadata": {},
     "execution_count": 23
    }
   ],
   "source": [
    "model_euclidean.fit(text_tfidf,people_df['name'])"
   ]
  },
  {
   "cell_type": "code",
   "execution_count": 24,
   "metadata": {},
   "outputs": [],
   "source": [
    "# Find top 10 neighbors of Barack Obama\n",
    "\n",
    "# Represent Barack Obama into sparse matrix form\n",
    "obama_tfidf = tfidf_vectorizer.transform(people_df[people_df['name'] == 'Barack Obama']['text'])"
   ]
  },
  {
   "cell_type": "code",
   "execution_count": 25,
   "metadata": {},
   "outputs": [],
   "source": [
    "neighbor_dist = model_euclidean.kneighbors(obama_tfidf,n_neighbors=10)[0][0]\n",
    "neighbor_index = model_euclidean.kneighbors(obama_tfidf,n_neighbors=10)[1][0]"
   ]
  },
  {
   "cell_type": "code",
   "execution_count": 26,
   "metadata": {},
   "outputs": [],
   "source": [
    "neighbors = pd.DataFrame({'distance' : neighbor_dist , 'index' : neighbor_index})"
   ]
  },
  {
   "cell_type": "code",
   "execution_count": 27,
   "metadata": {},
   "outputs": [
    {
     "output_type": "execute_result",
     "data": {
      "text/plain": [
       "   distance  index                     name\n",
       "0  0.000000  35817             Barack Obama\n",
       "1  1.165145  24478                Joe Biden\n",
       "2  1.207369  38376           Samantha Power\n",
       "3  1.219640  57108   Hillary Rodham Clinton\n",
       "4  1.222509  38714  Eric Stern (politician)\n",
       "5  1.236178  46140             Robert Gibbs\n",
       "6  1.243057  18827             Henry Waxman\n",
       "7  1.244667  44681   Jesse Lee (politician)\n",
       "8  1.248296   6796              Eric Holder\n",
       "9  1.251607   2412          Joe the Plumber"
      ],
      "text/html": "<div>\n<style scoped>\n    .dataframe tbody tr th:only-of-type {\n        vertical-align: middle;\n    }\n\n    .dataframe tbody tr th {\n        vertical-align: top;\n    }\n\n    .dataframe thead th {\n        text-align: right;\n    }\n</style>\n<table border=\"1\" class=\"dataframe\">\n  <thead>\n    <tr style=\"text-align: right;\">\n      <th></th>\n      <th>distance</th>\n      <th>index</th>\n      <th>name</th>\n    </tr>\n  </thead>\n  <tbody>\n    <tr>\n      <th>0</th>\n      <td>0.000000</td>\n      <td>35817</td>\n      <td>Barack Obama</td>\n    </tr>\n    <tr>\n      <th>1</th>\n      <td>1.165145</td>\n      <td>24478</td>\n      <td>Joe Biden</td>\n    </tr>\n    <tr>\n      <th>2</th>\n      <td>1.207369</td>\n      <td>38376</td>\n      <td>Samantha Power</td>\n    </tr>\n    <tr>\n      <th>3</th>\n      <td>1.219640</td>\n      <td>57108</td>\n      <td>Hillary Rodham Clinton</td>\n    </tr>\n    <tr>\n      <th>4</th>\n      <td>1.222509</td>\n      <td>38714</td>\n      <td>Eric Stern (politician)</td>\n    </tr>\n    <tr>\n      <th>5</th>\n      <td>1.236178</td>\n      <td>46140</td>\n      <td>Robert Gibbs</td>\n    </tr>\n    <tr>\n      <th>6</th>\n      <td>1.243057</td>\n      <td>18827</td>\n      <td>Henry Waxman</td>\n    </tr>\n    <tr>\n      <th>7</th>\n      <td>1.244667</td>\n      <td>44681</td>\n      <td>Jesse Lee (politician)</td>\n    </tr>\n    <tr>\n      <th>8</th>\n      <td>1.248296</td>\n      <td>6796</td>\n      <td>Eric Holder</td>\n    </tr>\n    <tr>\n      <th>9</th>\n      <td>1.251607</td>\n      <td>2412</td>\n      <td>Joe the Plumber</td>\n    </tr>\n  </tbody>\n</table>\n</div>"
     },
     "metadata": {},
     "execution_count": 27
    }
   ],
   "source": [
    "neighbors = pd.merge(neighbors , people_df['name'].reset_index() , on='index' , how='left')\n",
    "neighbors"
   ]
  },
  {
   "cell_type": "code",
   "execution_count": 28,
   "metadata": {},
   "outputs": [],
   "source": [
    "obama_neighbors = people_df[people_df['name'].isin(neighbors['name'])].copy()"
   ]
  },
  {
   "cell_type": "code",
   "execution_count": 29,
   "metadata": {},
   "outputs": [
    {
     "output_type": "execute_result",
     "data": {
      "text/plain": [
       "                                                     URI  \\\n",
       "2412       <http://dbpedia.org/resource/Joe_the_Plumber>   \n",
       "6796           <http://dbpedia.org/resource/Eric_Holder>   \n",
       "18827         <http://dbpedia.org/resource/Henry_Waxman>   \n",
       "24478            <http://dbpedia.org/resource/Joe_Biden>   \n",
       "35817         <http://dbpedia.org/resource/Barack_Obama>   \n",
       "38376       <http://dbpedia.org/resource/Samantha_Power>   \n",
       "38714  <http://dbpedia.org/resource/Eric_Stern_(polit...   \n",
       "44681  <http://dbpedia.org/resource/Jesse_Lee_(politi...   \n",
       "46140         <http://dbpedia.org/resource/Robert_Gibbs>   \n",
       "57108  <http://dbpedia.org/resource/Hillary_Rodham_Cl...   \n",
       "\n",
       "                          name  \\\n",
       "2412           Joe the Plumber   \n",
       "6796               Eric Holder   \n",
       "18827             Henry Waxman   \n",
       "24478                Joe Biden   \n",
       "35817             Barack Obama   \n",
       "38376           Samantha Power   \n",
       "38714  Eric Stern (politician)   \n",
       "44681   Jesse Lee (politician)   \n",
       "46140             Robert Gibbs   \n",
       "57108   Hillary Rodham Clinton   \n",
       "\n",
       "                                                    text  text_len  \n",
       "2412   samuel joseph wurzelbacher wrzlbkr born decemb...       217  \n",
       "6796   eric himpton holder jr born january 21 1951 is...       232  \n",
       "18827  henry arnold waxman born september 12 1939 is ...       279  \n",
       "24478  joseph robinette joe biden jr dosf rbnt badn b...       414  \n",
       "35817  barack hussein obama ii brk husen bm born augu...       540  \n",
       "38376  samantha power born september 21 1970 is an ir...       310  \n",
       "38714  eric stern is the director of operations for t...       255  \n",
       "44681  jesse lee born 1979 was named the white house ...       216  \n",
       "46140  robert lane gibbs born march 29 1971 is an ame...       257  \n",
       "57108  hillary diane rodham clinton hlri dan rdm klnt...       580  "
      ],
      "text/html": "<div>\n<style scoped>\n    .dataframe tbody tr th:only-of-type {\n        vertical-align: middle;\n    }\n\n    .dataframe tbody tr th {\n        vertical-align: top;\n    }\n\n    .dataframe thead th {\n        text-align: right;\n    }\n</style>\n<table border=\"1\" class=\"dataframe\">\n  <thead>\n    <tr style=\"text-align: right;\">\n      <th></th>\n      <th>URI</th>\n      <th>name</th>\n      <th>text</th>\n      <th>text_len</th>\n    </tr>\n  </thead>\n  <tbody>\n    <tr>\n      <th>2412</th>\n      <td>&lt;http://dbpedia.org/resource/Joe_the_Plumber&gt;</td>\n      <td>Joe the Plumber</td>\n      <td>samuel joseph wurzelbacher wrzlbkr born decemb...</td>\n      <td>217</td>\n    </tr>\n    <tr>\n      <th>6796</th>\n      <td>&lt;http://dbpedia.org/resource/Eric_Holder&gt;</td>\n      <td>Eric Holder</td>\n      <td>eric himpton holder jr born january 21 1951 is...</td>\n      <td>232</td>\n    </tr>\n    <tr>\n      <th>18827</th>\n      <td>&lt;http://dbpedia.org/resource/Henry_Waxman&gt;</td>\n      <td>Henry Waxman</td>\n      <td>henry arnold waxman born september 12 1939 is ...</td>\n      <td>279</td>\n    </tr>\n    <tr>\n      <th>24478</th>\n      <td>&lt;http://dbpedia.org/resource/Joe_Biden&gt;</td>\n      <td>Joe Biden</td>\n      <td>joseph robinette joe biden jr dosf rbnt badn b...</td>\n      <td>414</td>\n    </tr>\n    <tr>\n      <th>35817</th>\n      <td>&lt;http://dbpedia.org/resource/Barack_Obama&gt;</td>\n      <td>Barack Obama</td>\n      <td>barack hussein obama ii brk husen bm born augu...</td>\n      <td>540</td>\n    </tr>\n    <tr>\n      <th>38376</th>\n      <td>&lt;http://dbpedia.org/resource/Samantha_Power&gt;</td>\n      <td>Samantha Power</td>\n      <td>samantha power born september 21 1970 is an ir...</td>\n      <td>310</td>\n    </tr>\n    <tr>\n      <th>38714</th>\n      <td>&lt;http://dbpedia.org/resource/Eric_Stern_(polit...</td>\n      <td>Eric Stern (politician)</td>\n      <td>eric stern is the director of operations for t...</td>\n      <td>255</td>\n    </tr>\n    <tr>\n      <th>44681</th>\n      <td>&lt;http://dbpedia.org/resource/Jesse_Lee_(politi...</td>\n      <td>Jesse Lee (politician)</td>\n      <td>jesse lee born 1979 was named the white house ...</td>\n      <td>216</td>\n    </tr>\n    <tr>\n      <th>46140</th>\n      <td>&lt;http://dbpedia.org/resource/Robert_Gibbs&gt;</td>\n      <td>Robert Gibbs</td>\n      <td>robert lane gibbs born march 29 1971 is an ame...</td>\n      <td>257</td>\n    </tr>\n    <tr>\n      <th>57108</th>\n      <td>&lt;http://dbpedia.org/resource/Hillary_Rodham_Cl...</td>\n      <td>Hillary Rodham Clinton</td>\n      <td>hillary diane rodham clinton hlri dan rdm klnt...</td>\n      <td>580</td>\n    </tr>\n  </tbody>\n</table>\n</div>"
     },
     "metadata": {},
     "execution_count": 29
    }
   ],
   "source": [
    "obama_neighbors['text_len'] = obama_neighbors['text'].apply(find_length)\n",
    "obama_neighbors"
   ]
  },
  {
   "cell_type": "code",
   "execution_count": 30,
   "metadata": {},
   "outputs": [
    {
     "output_type": "execute_result",
     "data": {
      "text/plain": [
       "330.0"
      ]
     },
     "metadata": {},
     "execution_count": 30
    }
   ],
   "source": [
    "obama_neighbors['text_len'].mean()"
   ]
  },
  {
   "cell_type": "code",
   "execution_count": 32,
   "metadata": {},
   "outputs": [
    {
     "output_type": "execute_result",
     "data": {
      "text/plain": [
       "306.6666666666667"
      ]
     },
     "metadata": {},
     "execution_count": 32
    }
   ],
   "source": [
    "obama_neighbors[obama_neighbors['name']!='Barack Obama']['text_len'].mean()"
   ]
  },
  {
   "cell_type": "code",
   "execution_count": null,
   "metadata": {},
   "outputs": [],
   "source": []
  }
 ]
}